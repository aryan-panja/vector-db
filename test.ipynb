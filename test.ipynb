{
 "cells": [
  {
   "cell_type": "code",
   "execution_count": null,
   "metadata": {},
   "outputs": [],
   "source": [
    "import os\n",
    "os.environ[\"GROQ_API_KEY\"] = \"api key\""
   ]
  },
  {
   "cell_type": "code",
   "execution_count": 2,
   "metadata": {},
   "outputs": [
    {
     "name": "stderr",
     "output_type": "stream",
     "text": [
      "d:\\vector db\\venv\\Lib\\site-packages\\tqdm\\auto.py:21: TqdmWarning: IProgress not found. Please update jupyter and ipywidgets. See https://ipywidgets.readthedocs.io/en/stable/user_install.html\n",
      "  from .autonotebook import tqdm as notebook_tqdm\n"
     ]
    }
   ],
   "source": [
    "from langchain.document_loaders import CSVLoader\n",
    "from langchain.text_splitter import CharacterTextSplitter\n",
    "from langchain.embeddings import HuggingFaceEmbeddings\n",
    "from langchain.vectorstores import FAISS\n",
    "from langchain.chains import ConversationalRetrievalChain\n",
    "from transformers import pipeline\n",
    "from langchain.llms import HuggingFacePipeline"
   ]
  },
  {
   "cell_type": "code",
   "execution_count": 3,
   "metadata": {},
   "outputs": [
    {
     "name": "stdout",
     "output_type": "stream",
     "text": [
      "[Document(metadata={'source': 'data.csv', 'row': 0}, page_content='Region: Australia and Oceania\\nCountry: Tuvalu\\nItem Type: Baby Food\\nSales Channel: Offline\\nOrder Priority: H\\nOrder Date: 5/28/2010\\nOrder ID: 669165933\\nShip Date: 6/27/2010\\nUnits Sold: 9925\\nUnit Price: 255.28\\nUnit Cost: 159.42\\nTotal Revenue: 2533654\\nTotal Cost: 1582243.5\\nTotal Profit: 951410.5'), Document(metadata={'source': 'data.csv', 'row': 1}, page_content='Region: Central America and the Caribbean\\nCountry: Grenada\\nItem Type: Cereal\\nSales Channel: Online\\nOrder Priority: C\\nOrder Date: 8/22/2012\\nOrder ID: 963881480\\nShip Date: 9/15/2012\\nUnits Sold: 2804\\nUnit Price: 205.7\\nUnit Cost: 117.11\\nTotal Revenue: 576782.8\\nTotal Cost: 328376.44\\nTotal Profit: 248406.36'), Document(metadata={'source': 'data.csv', 'row': 2}, page_content='Region: Europe\\nCountry: Russia\\nItem Type: Office Supplies\\nSales Channel: Offline\\nOrder Priority: L\\nOrder Date: 05-02-2014\\nOrder ID: 341417157\\nShip Date: 05-08-2014\\nUnits Sold: 1779\\nUnit Price: 651.21\\nUnit Cost: 524.96\\nTotal Revenue: 1158502.59\\nTotal Cost: 933903.84\\nTotal Profit: 224598.75'), Document(metadata={'source': 'data.csv', 'row': 3}, page_content='Region: Sub-Saharan Africa\\nCountry: Sao Tome and Principe\\nItem Type: Fruits\\nSales Channel: Online\\nOrder Priority: C\\nOrder Date: 6/20/2014\\nOrder ID: 514321792\\nShip Date: 07-05-2014\\nUnits Sold: 8102\\nUnit Price: 9.33\\nUnit Cost: 6.92\\nTotal Revenue: 75591.66\\nTotal Cost: 56065.84\\nTotal Profit: 19525.82'), Document(metadata={'source': 'data.csv', 'row': 4}, page_content='Region: Sub-Saharan Africa\\nCountry: Rwanda\\nItem Type: Office Supplies\\nSales Channel: Offline\\nOrder Priority: L\\nOrder Date: 02-01-2013\\nOrder ID: 115456712\\nShip Date: 02-06-2013\\nUnits Sold: 5062\\nUnit Price: 651.21\\nUnit Cost: 524.96\\nTotal Revenue: 3296425.02\\nTotal Cost: 2657347.52\\nTotal Profit: 639077.5'), Document(metadata={'source': 'data.csv', 'row': 5}, page_content='Region: Australia and Oceania\\nCountry: Solomon Islands\\nItem Type: Baby Food\\nSales Channel: Online\\nOrder Priority: C\\nOrder Date: 02-04-2015\\nOrder ID: 547995746\\nShip Date: 2/21/2015\\nUnits Sold: 2974\\nUnit Price: 255.28\\nUnit Cost: 159.42\\nTotal Revenue: 759202.72\\nTotal Cost: 474115.08\\nTotal Profit: 285087.64'), Document(metadata={'source': 'data.csv', 'row': 6}, page_content='Region: Sub-Saharan Africa\\nCountry: Angola\\nItem Type: Household\\nSales Channel: Offline\\nOrder Priority: M\\nOrder Date: 4/23/2011\\nOrder ID: 135425221\\nShip Date: 4/27/2011\\nUnits Sold: 4187\\nUnit Price: 668.27\\nUnit Cost: 502.54\\nTotal Revenue: 2798046.49\\nTotal Cost: 2104134.98\\nTotal Profit: 693911.51'), Document(metadata={'source': 'data.csv', 'row': 7}, page_content='Region: Sub-Saharan Africa\\nCountry: Burkina Faso\\nItem Type: Vegetables\\nSales Channel: Online\\nOrder Priority: H\\nOrder Date: 7/17/2012\\nOrder ID: 871543967\\nShip Date: 7/27/2012\\nUnits Sold: 8082\\nUnit Price: 154.06\\nUnit Cost: 90.93\\nTotal Revenue: 1245112.92\\nTotal Cost: 734896.26\\nTotal Profit: 510216.66'), Document(metadata={'source': 'data.csv', 'row': 8}, page_content='Region: Sub-Saharan Africa\\nCountry: Republic of the Congo\\nItem Type: Personal Care\\nSales Channel: Offline\\nOrder Priority: M\\nOrder Date: 7/14/2015\\nOrder ID: 770463311\\nShip Date: 8/25/2015\\nUnits Sold: 6070\\nUnit Price: 81.73\\nUnit Cost: 56.67\\nTotal Revenue: 496101.1\\nTotal Cost: 343986.9\\nTotal Profit: 152114.2'), Document(metadata={'source': 'data.csv', 'row': 9}, page_content='Region: Sub-Saharan Africa\\nCountry: Senegal\\nItem Type: Cereal\\nSales Channel: Online\\nOrder Priority: H\\nOrder Date: 4/18/2014\\nOrder ID: 616607081\\nShip Date: 5/30/2014\\nUnits Sold: 6593\\nUnit Price: 205.7\\nUnit Cost: 117.11\\nTotal Revenue: 1356180.1\\nTotal Cost: 772106.23\\nTotal Profit: 584073.87'), Document(metadata={'source': 'data.csv', 'row': 10}, page_content='Region: Asia\\nCountry: Kyrgyzstan\\nItem Type: Vegetables\\nSales Channel: Online\\nOrder Priority: H\\nOrder Date: 6/24/2011\\nOrder ID: 814711606\\nShip Date: 07-12-2011\\nUnits Sold: 124\\nUnit Price: 154.06\\nUnit Cost: 90.93\\nTotal Revenue: 19103.44\\nTotal Cost: 11275.32\\nTotal Profit: 7828.12'), Document(metadata={'source': 'data.csv', 'row': 11}, page_content='Region: Sub-Saharan Africa\\nCountry: Cape Verde\\nItem Type: Clothes\\nSales Channel: Offline\\nOrder Priority: H\\nOrder Date: 08-02-2014\\nOrder ID: 939825713\\nShip Date: 8/19/2014\\nUnits Sold: 4168\\nUnit Price: 109.28\\nUnit Cost: 35.84\\nTotal Revenue: 455479.04\\nTotal Cost: 149381.12\\nTotal Profit: 306097.92'), Document(metadata={'source': 'data.csv', 'row': 12}, page_content='Region: Asia\\nCountry: Bangladesh\\nItem Type: Clothes\\nSales Channel: Online\\nOrder Priority: L\\nOrder Date: 1/13/2017\\nOrder ID: 187310731\\nShip Date: 03-01-2017\\nUnits Sold: 8263\\nUnit Price: 109.28\\nUnit Cost: 35.84\\nTotal Revenue: 902980.64\\nTotal Cost: 296145.92\\nTotal Profit: 606834.72'), Document(metadata={'source': 'data.csv', 'row': 13}, page_content='Region: Central America and the Caribbean\\nCountry: Honduras\\nItem Type: Household\\nSales Channel: Offline\\nOrder Priority: H\\nOrder Date: 02-08-2017\\nOrder ID: 522840487\\nShip Date: 2/13/2017\\nUnits Sold: 8974\\nUnit Price: 668.27\\nUnit Cost: 502.54\\nTotal Revenue: 5997054.98\\nTotal Cost: 4509793.96\\nTotal Profit: 1487261.02'), Document(metadata={'source': 'data.csv', 'row': 14}, page_content='Region: Asia\\nCountry: Mongolia\\nItem Type: Personal Care\\nSales Channel: Offline\\nOrder Priority: C\\nOrder Date: 2/19/2014\\nOrder ID: 832401311\\nShip Date: 2/23/2014\\nUnits Sold: 4901\\nUnit Price: 81.73\\nUnit Cost: 56.67\\nTotal Revenue: 400558.73\\nTotal Cost: 277739.67\\nTotal Profit: 122819.06'), Document(metadata={'source': 'data.csv', 'row': 15}, page_content='Region: Europe\\nCountry: Bulgaria\\nItem Type: Clothes\\nSales Channel: Online\\nOrder Priority: M\\nOrder Date: 4/23/2012\\nOrder ID: 972292029\\nShip Date: 06-03-2012\\nUnits Sold: 1673\\nUnit Price: 109.28\\nUnit Cost: 35.84\\nTotal Revenue: 182825.44\\nTotal Cost: 59960.32\\nTotal Profit: 122865.12'), Document(metadata={'source': 'data.csv', 'row': 16}, page_content='Region: Asia\\nCountry: Sri Lanka\\nItem Type: Cosmetics\\nSales Channel: Offline\\nOrder Priority: M\\nOrder Date: 11/19/2016\\nOrder ID: 419123971\\nShip Date: 12/18/2016\\nUnits Sold: 6952\\nUnit Price: 437.2\\nUnit Cost: 263.33\\nTotal Revenue: 3039414.4\\nTotal Cost: 1830670.16\\nTotal Profit: 1208744.24'), Document(metadata={'source': 'data.csv', 'row': 17}, page_content='Region: Sub-Saharan Africa\\nCountry: Cameroon\\nItem Type: Beverages\\nSales Channel: Offline\\nOrder Priority: C\\nOrder Date: 04-01-2015\\nOrder ID: 519820964\\nShip Date: 4/18/2015\\nUnits Sold: 5430\\nUnit Price: 47.45\\nUnit Cost: 31.79\\nTotal Revenue: 257653.5\\nTotal Cost: 172619.7\\nTotal Profit: 85033.8'), Document(metadata={'source': 'data.csv', 'row': 18}, page_content='Region: Asia\\nCountry: Turkmenistan\\nItem Type: Household\\nSales Channel: Offline\\nOrder Priority: L\\nOrder Date: 12/30/2010\\nOrder ID: 441619336\\nShip Date: 1/20/2011\\nUnits Sold: 3830\\nUnit Price: 668.27\\nUnit Cost: 502.54\\nTotal Revenue: 2559474.1\\nTotal Cost: 1924728.2\\nTotal Profit: 634745.9'), Document(metadata={'source': 'data.csv', 'row': 19}, page_content='Region: Australia and Oceania\\nCountry: East Timor\\nItem Type: Meat\\nSales Channel: Online\\nOrder Priority: L\\nOrder Date: 7/31/2012\\nOrder ID: 322067916\\nShip Date: 09-11-2012\\nUnits Sold: 5908\\nUnit Price: 421.89\\nUnit Cost: 364.69\\nTotal Revenue: 2492526.12\\nTotal Cost: 2154588.52\\nTotal Profit: 337937.6'), Document(metadata={'source': 'data.csv', 'row': 20}, page_content='Region: Europe\\nCountry: Norway\\nItem Type: Baby Food\\nSales Channel: Online\\nOrder Priority: L\\nOrder Date: 5/14/2014\\nOrder ID: 819028031\\nShip Date: 6/28/2014\\nUnits Sold: 7450\\nUnit Price: 255.28\\nUnit Cost: 159.42\\nTotal Revenue: 1901836\\nTotal Cost: 1187679\\nTotal Profit: 714157'), Document(metadata={'source': 'data.csv', 'row': 21}, page_content='Region: Europe\\nCountry: Portugal\\nItem Type: Baby Food\\nSales Channel: Online\\nOrder Priority: H\\nOrder Date: 7/31/2015\\nOrder ID: 860673511\\nShip Date: 09-03-2015\\nUnits Sold: 1273\\nUnit Price: 255.28\\nUnit Cost: 159.42\\nTotal Revenue: 324971.44\\nTotal Cost: 202941.66\\nTotal Profit: 122029.78'), Document(metadata={'source': 'data.csv', 'row': 22}, page_content='Region: Central America and the Caribbean\\nCountry: Honduras\\nItem Type: Snacks\\nSales Channel: Online\\nOrder Priority: L\\nOrder Date: 6/30/2016\\nOrder ID: 795490682\\nShip Date: 7/26/2016\\nUnits Sold: 2225\\nUnit Price: 152.58\\nUnit Cost: 97.44\\nTotal Revenue: 339490.5\\nTotal Cost: 216804\\nTotal Profit: 122686.5'), Document(metadata={'source': 'data.csv', 'row': 23}, page_content='Region: Australia and Oceania\\nCountry: New Zealand\\nItem Type: Fruits\\nSales Channel: Online\\nOrder Priority: H\\nOrder Date: 09-08-2014\\nOrder ID: 142278373\\nShip Date: 10-04-2014\\nUnits Sold: 2187\\nUnit Price: 9.33\\nUnit Cost: 6.92\\nTotal Revenue: 20404.71\\nTotal Cost: 15134.04\\nTotal Profit: 5270.67'), Document(metadata={'source': 'data.csv', 'row': 24}, page_content='Region: Europe\\nCountry: Moldova\\nItem Type: Personal Care\\nSales Channel: Online\\nOrder Priority: L\\nOrder Date: 05-07-2016\\nOrder ID: 740147912\\nShip Date: 05-10-2016\\nUnits Sold: 5070\\nUnit Price: 81.73\\nUnit Cost: 56.67\\nTotal Revenue: 414371.1\\nTotal Cost: 287316.9\\nTotal Profit: 127054.2'), Document(metadata={'source': 'data.csv', 'row': 25}, page_content='Region: Europe\\nCountry: France\\nItem Type: Cosmetics\\nSales Channel: Online\\nOrder Priority: H\\nOrder Date: 5/22/2017\\nOrder ID: 898523128\\nShip Date: 06-05-2017\\nUnits Sold: 1815\\nUnit Price: 437.2\\nUnit Cost: 263.33\\nTotal Revenue: 793518\\nTotal Cost: 477943.95\\nTotal Profit: 315574.05'), Document(metadata={'source': 'data.csv', 'row': 26}, page_content='Region: Australia and Oceania\\nCountry: Kiribati\\nItem Type: Fruits\\nSales Channel: Online\\nOrder Priority: M\\nOrder Date: 10/13/2014\\nOrder ID: 347140347\\nShip Date: 11-10-2014\\nUnits Sold: 5398\\nUnit Price: 9.33\\nUnit Cost: 6.92\\nTotal Revenue: 50363.34\\nTotal Cost: 37354.16\\nTotal Profit: 13009.18'), Document(metadata={'source': 'data.csv', 'row': 27}, page_content='Region: Sub-Saharan Africa\\nCountry: Mali\\nItem Type: Fruits\\nSales Channel: Online\\nOrder Priority: L\\nOrder Date: 05-07-2010\\nOrder ID: 686048400\\nShip Date: 05-10-2010\\nUnits Sold: 5822\\nUnit Price: 9.33\\nUnit Cost: 6.92\\nTotal Revenue: 54319.26\\nTotal Cost: 40288.24\\nTotal Profit: 14031.02'), Document(metadata={'source': 'data.csv', 'row': 28}, page_content='Region: Europe\\nCountry: Norway\\nItem Type: Beverages\\nSales Channel: Offline\\nOrder Priority: C\\nOrder Date: 7/18/2014\\nOrder ID: 435608613\\nShip Date: 7/30/2014\\nUnits Sold: 5124\\nUnit Price: 47.45\\nUnit Cost: 31.79\\nTotal Revenue: 243133.8\\nTotal Cost: 162891.96\\nTotal Profit: 80241.84'), Document(metadata={'source': 'data.csv', 'row': 29}, page_content='Region: Sub-Saharan Africa\\nCountry: The Gambia\\nItem Type: Household\\nSales Channel: Offline\\nOrder Priority: L\\nOrder Date: 5/26/2012\\nOrder ID: 886494815\\nShip Date: 06-09-2012\\nUnits Sold: 2370\\nUnit Price: 668.27\\nUnit Cost: 502.54\\nTotal Revenue: 1583799.9\\nTotal Cost: 1191019.8\\nTotal Profit: 392780.1'), Document(metadata={'source': 'data.csv', 'row': 30}, page_content='Region: Europe\\nCountry: Switzerland\\nItem Type: Cosmetics\\nSales Channel: Offline\\nOrder Priority: M\\nOrder Date: 9/17/2012\\nOrder ID: 249693334\\nShip Date: 10/20/2012\\nUnits Sold: 8661\\nUnit Price: 437.2\\nUnit Cost: 263.33\\nTotal Revenue: 3786589.2\\nTotal Cost: 2280701.13\\nTotal Profit: 1505888.07'), Document(metadata={'source': 'data.csv', 'row': 31}, page_content='Region: Sub-Saharan Africa\\nCountry: South Sudan\\nItem Type: Personal Care\\nSales Channel: Offline\\nOrder Priority: C\\nOrder Date: 12/29/2013\\nOrder ID: 406502997\\nShip Date: 1/28/2014\\nUnits Sold: 2125\\nUnit Price: 81.73\\nUnit Cost: 56.67\\nTotal Revenue: 173676.25\\nTotal Cost: 120423.75\\nTotal Profit: 53252.5'), Document(metadata={'source': 'data.csv', 'row': 32}, page_content='Region: Australia and Oceania\\nCountry: Australia\\nItem Type: Office Supplies\\nSales Channel: Online\\nOrder Priority: C\\nOrder Date: 10/27/2015\\nOrder ID: 158535134\\nShip Date: 11/25/2015\\nUnits Sold: 2924\\nUnit Price: 651.21\\nUnit Cost: 524.96\\nTotal Revenue: 1904138.04\\nTotal Cost: 1534983.04\\nTotal Profit: 369155'), Document(metadata={'source': 'data.csv', 'row': 33}, page_content='Region: Asia\\nCountry: Myanmar\\nItem Type: Household\\nSales Channel: Offline\\nOrder Priority: H\\nOrder Date: 1/16/2015\\nOrder ID: 177713572\\nShip Date: 03-01-2015\\nUnits Sold: 8250\\nUnit Price: 668.27\\nUnit Cost: 502.54\\nTotal Revenue: 5513227.5\\nTotal Cost: 4145955\\nTotal Profit: 1367272.5'), Document(metadata={'source': 'data.csv', 'row': 34}, page_content='Region: Sub-Saharan Africa\\nCountry: Djibouti\\nItem Type: Snacks\\nSales Channel: Online\\nOrder Priority: M\\nOrder Date: 2/25/2017\\nOrder ID: 756274640\\nShip Date: 2/25/2017\\nUnits Sold: 7327\\nUnit Price: 152.58\\nUnit Cost: 97.44\\nTotal Revenue: 1117953.66\\nTotal Cost: 713942.88\\nTotal Profit: 404010.78'), Document(metadata={'source': 'data.csv', 'row': 35}, page_content='Region: Central America and the Caribbean\\nCountry: Costa Rica\\nItem Type: Personal Care\\nSales Channel: Offline\\nOrder Priority: L\\nOrder Date: 05-08-2017\\nOrder ID: 456767165\\nShip Date: 5/21/2017\\nUnits Sold: 6409\\nUnit Price: 81.73\\nUnit Cost: 56.67\\nTotal Revenue: 523807.57\\nTotal Cost: 363198.03\\nTotal Profit: 160609.54'), Document(metadata={'source': 'data.csv', 'row': 36}, page_content='Region: Middle East and North Africa\\nCountry: Syria\\nItem Type: Fruits\\nSales Channel: Online\\nOrder Priority: L\\nOrder Date: 11/22/2011\\nOrder ID: 162052476\\nShip Date: 12-03-2011\\nUnits Sold: 3784\\nUnit Price: 9.33\\nUnit Cost: 6.92\\nTotal Revenue: 35304.72\\nTotal Cost: 26185.28\\nTotal Profit: 9119.44'), Document(metadata={'source': 'data.csv', 'row': 37}, page_content='Region: Sub-Saharan Africa\\nCountry: The Gambia\\nItem Type: Meat\\nSales Channel: Online\\nOrder Priority: M\\nOrder Date: 1/14/2017\\nOrder ID: 825304400\\nShip Date: 1/23/2017\\nUnits Sold: 4767\\nUnit Price: 421.89\\nUnit Cost: 364.69\\nTotal Revenue: 2011149.63\\nTotal Cost: 1738477.23\\nTotal Profit: 272672.4'), Document(metadata={'source': 'data.csv', 'row': 38}, page_content='Region: Asia\\nCountry: Brunei\\nItem Type: Office Supplies\\nSales Channel: Online\\nOrder Priority: L\\nOrder Date: 04-01-2012\\nOrder ID: 320009267\\nShip Date: 05-08-2012\\nUnits Sold: 6708\\nUnit Price: 651.21\\nUnit Cost: 524.96\\nTotal Revenue: 4368316.68\\nTotal Cost: 3521431.68\\nTotal Profit: 846885'), Document(metadata={'source': 'data.csv', 'row': 39}, page_content='Region: Europe\\nCountry: Bulgaria\\nItem Type: Office Supplies\\nSales Channel: Online\\nOrder Priority: M\\nOrder Date: 2/16/2012\\nOrder ID: 189965903\\nShip Date: 2/28/2012\\nUnits Sold: 3987\\nUnit Price: 651.21\\nUnit Cost: 524.96\\nTotal Revenue: 2596374.27\\nTotal Cost: 2093015.52\\nTotal Profit: 503358.75'), Document(metadata={'source': 'data.csv', 'row': 40}, page_content='Region: Sub-Saharan Africa\\nCountry: Niger\\nItem Type: Personal Care\\nSales Channel: Online\\nOrder Priority: H\\nOrder Date: 03-11-2017\\nOrder ID: 699285638\\nShip Date: 3/28/2017\\nUnits Sold: 3015\\nUnit Price: 81.73\\nUnit Cost: 56.67\\nTotal Revenue: 246415.95\\nTotal Cost: 170860.05\\nTotal Profit: 75555.9'), Document(metadata={'source': 'data.csv', 'row': 41}, page_content='Region: Middle East and North Africa\\nCountry: Azerbaijan\\nItem Type: Cosmetics\\nSales Channel: Online\\nOrder Priority: M\\nOrder Date: 02-06-2010\\nOrder ID: 382392299\\nShip Date: 2/25/2010\\nUnits Sold: 7234\\nUnit Price: 437.2\\nUnit Cost: 263.33\\nTotal Revenue: 3162704.8\\nTotal Cost: 1904929.22\\nTotal Profit: 1257775.58'), Document(metadata={'source': 'data.csv', 'row': 42}, page_content='Region: Sub-Saharan Africa\\nCountry: The Gambia\\nItem Type: Cereal\\nSales Channel: Offline\\nOrder Priority: H\\nOrder Date: 06-07-2012\\nOrder ID: 994022214\\nShip Date: 06-08-2012\\nUnits Sold: 2117\\nUnit Price: 205.7\\nUnit Cost: 117.11\\nTotal Revenue: 435466.9\\nTotal Cost: 247921.87\\nTotal Profit: 187545.03'), Document(metadata={'source': 'data.csv', 'row': 43}, page_content='Region: Europe\\nCountry: Slovakia\\nItem Type: Vegetables\\nSales Channel: Online\\nOrder Priority: H\\nOrder Date: 10-06-2012\\nOrder ID: 759224212\\nShip Date: 11-10-2012\\nUnits Sold: 171\\nUnit Price: 154.06\\nUnit Cost: 90.93\\nTotal Revenue: 26344.26\\nTotal Cost: 15549.03\\nTotal Profit: 10795.23'), Document(metadata={'source': 'data.csv', 'row': 44}, page_content='Region: Asia\\nCountry: Myanmar\\nItem Type: Clothes\\nSales Channel: Online\\nOrder Priority: H\\nOrder Date: 11/14/2015\\nOrder ID: 223359620\\nShip Date: 11/18/2015\\nUnits Sold: 5930\\nUnit Price: 109.28\\nUnit Cost: 35.84\\nTotal Revenue: 648030.4\\nTotal Cost: 212531.2\\nTotal Profit: 435499.2'), Document(metadata={'source': 'data.csv', 'row': 45}, page_content='Region: Sub-Saharan Africa\\nCountry: Comoros\\nItem Type: Cereal\\nSales Channel: Offline\\nOrder Priority: H\\nOrder Date: 3/29/2016\\nOrder ID: 902102267\\nShip Date: 4/29/2016\\nUnits Sold: 962\\nUnit Price: 205.7\\nUnit Cost: 117.11\\nTotal Revenue: 197883.4\\nTotal Cost: 112659.82\\nTotal Profit: 85223.58'), Document(metadata={'source': 'data.csv', 'row': 46}, page_content='Region: Europe\\nCountry: Iceland\\nItem Type: Cosmetics\\nSales Channel: Online\\nOrder Priority: C\\nOrder Date: 12/31/2016\\nOrder ID: 331438481\\nShip Date: 12/31/2016\\nUnits Sold: 8867\\nUnit Price: 437.2\\nUnit Cost: 263.33\\nTotal Revenue: 3876652.4\\nTotal Cost: 2334947.11\\nTotal Profit: 1541705.29'), Document(metadata={'source': 'data.csv', 'row': 47}, page_content='Region: Europe\\nCountry: Switzerland\\nItem Type: Personal Care\\nSales Channel: Online\\nOrder Priority: M\\nOrder Date: 12/23/2010\\nOrder ID: 617667090\\nShip Date: 1/31/2011\\nUnits Sold: 273\\nUnit Price: 81.73\\nUnit Cost: 56.67\\nTotal Revenue: 22312.29\\nTotal Cost: 15470.91\\nTotal Profit: 6841.38'), Document(metadata={'source': 'data.csv', 'row': 48}, page_content='Region: Europe\\nCountry: Macedonia\\nItem Type: Clothes\\nSales Channel: Offline\\nOrder Priority: C\\nOrder Date: 10/14/2014\\nOrder ID: 787399423\\nShip Date: 11/14/2014\\nUnits Sold: 7842\\nUnit Price: 109.28\\nUnit Cost: 35.84\\nTotal Revenue: 856973.76\\nTotal Cost: 281057.28\\nTotal Profit: 575916.48'), Document(metadata={'source': 'data.csv', 'row': 49}, page_content='Region: Sub-Saharan Africa\\nCountry: Mauritania\\nItem Type: Office Supplies\\nSales Channel: Offline\\nOrder Priority: C\\nOrder Date: 01-11-2012\\nOrder ID: 837559306\\nShip Date: 1/13/2012\\nUnits Sold: 1266\\nUnit Price: 651.21\\nUnit Cost: 524.96\\nTotal Revenue: 824431.86\\nTotal Cost: 664599.36\\nTotal Profit: 159832.5'), Document(metadata={'source': 'data.csv', 'row': 50}, page_content='Region: Europe\\nCountry: Albania\\nItem Type: Clothes\\nSales Channel: Online\\nOrder Priority: C\\nOrder Date: 02-02-2010\\nOrder ID: 385383069\\nShip Date: 3/18/2010\\nUnits Sold: 2269\\nUnit Price: 109.28\\nUnit Cost: 35.84\\nTotal Revenue: 247956.32\\nTotal Cost: 81320.96\\nTotal Profit: 166635.36'), Document(metadata={'source': 'data.csv', 'row': 51}, page_content='Region: Sub-Saharan Africa\\nCountry: Lesotho\\nItem Type: Fruits\\nSales Channel: Online\\nOrder Priority: L\\nOrder Date: 8/18/2013\\nOrder ID: 918419539\\nShip Date: 9/18/2013\\nUnits Sold: 9606\\nUnit Price: 9.33\\nUnit Cost: 6.92\\nTotal Revenue: 89623.98\\nTotal Cost: 66473.52\\nTotal Profit: 23150.46'), Document(metadata={'source': 'data.csv', 'row': 52}, page_content='Region: Middle East and North Africa\\nCountry: Saudi Arabia\\nItem Type: Cereal\\nSales Channel: Online\\nOrder Priority: M\\nOrder Date: 3/25/2013\\nOrder ID: 844530045\\nShip Date: 3/28/2013\\nUnits Sold: 4063\\nUnit Price: 205.7\\nUnit Cost: 117.11\\nTotal Revenue: 835759.1\\nTotal Cost: 475817.93\\nTotal Profit: 359941.17'), Document(metadata={'source': 'data.csv', 'row': 53}, page_content='Region: Sub-Saharan Africa\\nCountry: Sierra Leone\\nItem Type: Office Supplies\\nSales Channel: Offline\\nOrder Priority: M\\nOrder Date: 11/26/2011\\nOrder ID: 441888415\\nShip Date: 01-07-2012\\nUnits Sold: 3457\\nUnit Price: 651.21\\nUnit Cost: 524.96\\nTotal Revenue: 2251232.97\\nTotal Cost: 1814786.72\\nTotal Profit: 436446.25'), Document(metadata={'source': 'data.csv', 'row': 54}, page_content='Region: Sub-Saharan Africa\\nCountry: Sao Tome and Principe\\nItem Type: Fruits\\nSales Channel: Offline\\nOrder Priority: H\\nOrder Date: 9/17/2013\\nOrder ID: 508980977\\nShip Date: 10/24/2013\\nUnits Sold: 7637\\nUnit Price: 9.33\\nUnit Cost: 6.92\\nTotal Revenue: 71253.21\\nTotal Cost: 52848.04\\nTotal Profit: 18405.17'), Document(metadata={'source': 'data.csv', 'row': 55}, page_content=\"Region: Sub-Saharan Africa\\nCountry: Cote d'Ivoire\\nItem Type: Clothes\\nSales Channel: Online\\nOrder Priority: C\\nOrder Date: 06-08-2012\\nOrder ID: 114606559\\nShip Date: 6/27/2012\\nUnits Sold: 3482\\nUnit Price: 109.28\\nUnit Cost: 35.84\\nTotal Revenue: 380512.96\\nTotal Cost: 124794.88\\nTotal Profit: 255718.08\"), Document(metadata={'source': 'data.csv', 'row': 56}, page_content='Region: Australia and Oceania\\nCountry: Fiji\\nItem Type: Clothes\\nSales Channel: Offline\\nOrder Priority: C\\nOrder Date: 6/30/2010\\nOrder ID: 647876489\\nShip Date: 08-01-2010\\nUnits Sold: 9905\\nUnit Price: 109.28\\nUnit Cost: 35.84\\nTotal Revenue: 1082418.4\\nTotal Cost: 354995.2\\nTotal Profit: 727423.2'), Document(metadata={'source': 'data.csv', 'row': 57}, page_content='Region: Europe\\nCountry: Austria\\nItem Type: Cosmetics\\nSales Channel: Offline\\nOrder Priority: H\\nOrder Date: 2/23/2015\\nOrder ID: 868214595\\nShip Date: 03-02-2015\\nUnits Sold: 2847\\nUnit Price: 437.2\\nUnit Cost: 263.33\\nTotal Revenue: 1244708.4\\nTotal Cost: 749700.51\\nTotal Profit: 495007.89'), Document(metadata={'source': 'data.csv', 'row': 58}, page_content='Region: Europe\\nCountry: United Kingdom\\nItem Type: Household\\nSales Channel: Online\\nOrder Priority: L\\nOrder Date: 01-05-2012\\nOrder ID: 955357205\\nShip Date: 2/14/2012\\nUnits Sold: 282\\nUnit Price: 668.27\\nUnit Cost: 502.54\\nTotal Revenue: 188452.14\\nTotal Cost: 141716.28\\nTotal Profit: 46735.86'), Document(metadata={'source': 'data.csv', 'row': 59}, page_content='Region: Sub-Saharan Africa\\nCountry: Djibouti\\nItem Type: Cosmetics\\nSales Channel: Offline\\nOrder Priority: H\\nOrder Date: 04-07-2014\\nOrder ID: 259353148\\nShip Date: 4/19/2014\\nUnits Sold: 7215\\nUnit Price: 437.2\\nUnit Cost: 263.33\\nTotal Revenue: 3154398\\nTotal Cost: 1899925.95\\nTotal Profit: 1254472.05'), Document(metadata={'source': 'data.csv', 'row': 60}, page_content='Region: Australia and Oceania\\nCountry: Australia\\nItem Type: Cereal\\nSales Channel: Offline\\nOrder Priority: H\\nOrder Date: 06-09-2013\\nOrder ID: 450563752\\nShip Date: 07-02-2013\\nUnits Sold: 682\\nUnit Price: 205.7\\nUnit Cost: 117.11\\nTotal Revenue: 140287.4\\nTotal Cost: 79869.02\\nTotal Profit: 60418.38'), Document(metadata={'source': 'data.csv', 'row': 61}, page_content='Region: Europe\\nCountry: San Marino\\nItem Type: Baby Food\\nSales Channel: Online\\nOrder Priority: L\\nOrder Date: 6/26/2013\\nOrder ID: 569662845\\nShip Date: 07-01-2013\\nUnits Sold: 4750\\nUnit Price: 255.28\\nUnit Cost: 159.42\\nTotal Revenue: 1212580\\nTotal Cost: 757245\\nTotal Profit: 455335'), Document(metadata={'source': 'data.csv', 'row': 62}, page_content='Region: Sub-Saharan Africa\\nCountry: Cameroon\\nItem Type: Office Supplies\\nSales Channel: Online\\nOrder Priority: M\\nOrder Date: 11-07-2011\\nOrder ID: 177636754\\nShip Date: 11/15/2011\\nUnits Sold: 5518\\nUnit Price: 651.21\\nUnit Cost: 524.96\\nTotal Revenue: 3593376.78\\nTotal Cost: 2896729.28\\nTotal Profit: 696647.5'), Document(metadata={'source': 'data.csv', 'row': 63}, page_content='Region: Middle East and North Africa\\nCountry: Libya\\nItem Type: Clothes\\nSales Channel: Offline\\nOrder Priority: H\\nOrder Date: 10/30/2010\\nOrder ID: 705784308\\nShip Date: 11/17/2010\\nUnits Sold: 6116\\nUnit Price: 109.28\\nUnit Cost: 35.84\\nTotal Revenue: 668356.48\\nTotal Cost: 219197.44\\nTotal Profit: 449159.04'), Document(metadata={'source': 'data.csv', 'row': 64}, page_content='Region: Central America and the Caribbean\\nCountry: Haiti\\nItem Type: Cosmetics\\nSales Channel: Offline\\nOrder Priority: H\\nOrder Date: 10/13/2013\\nOrder ID: 505716836\\nShip Date: 11/16/2013\\nUnits Sold: 1705\\nUnit Price: 437.2\\nUnit Cost: 263.33\\nTotal Revenue: 745426\\nTotal Cost: 448977.65\\nTotal Profit: 296448.35'), Document(metadata={'source': 'data.csv', 'row': 65}, page_content='Region: Sub-Saharan Africa\\nCountry: Rwanda\\nItem Type: Cosmetics\\nSales Channel: Offline\\nOrder Priority: H\\nOrder Date: 10-11-2013\\nOrder ID: 699358165\\nShip Date: 11/25/2013\\nUnits Sold: 4477\\nUnit Price: 437.2\\nUnit Cost: 263.33\\nTotal Revenue: 1957344.4\\nTotal Cost: 1178928.41\\nTotal Profit: 778415.99'), Document(metadata={'source': 'data.csv', 'row': 66}, page_content='Region: Sub-Saharan Africa\\nCountry: Gabon\\nItem Type: Personal Care\\nSales Channel: Offline\\nOrder Priority: L\\nOrder Date: 07-08-2012\\nOrder ID: 228944623\\nShip Date: 07-09-2012\\nUnits Sold: 8656\\nUnit Price: 81.73\\nUnit Cost: 56.67\\nTotal Revenue: 707454.88\\nTotal Cost: 490535.52\\nTotal Profit: 216919.36'), Document(metadata={'source': 'data.csv', 'row': 67}, page_content='Region: Central America and the Caribbean\\nCountry: Belize\\nItem Type: Clothes\\nSales Channel: Offline\\nOrder Priority: M\\nOrder Date: 7/25/2016\\nOrder ID: 807025039\\nShip Date: 09-07-2016\\nUnits Sold: 5498\\nUnit Price: 109.28\\nUnit Cost: 35.84\\nTotal Revenue: 600821.44\\nTotal Cost: 197048.32\\nTotal Profit: 403773.12'), Document(metadata={'source': 'data.csv', 'row': 68}, page_content='Region: Europe\\nCountry: Lithuania\\nItem Type: Office Supplies\\nSales Channel: Offline\\nOrder Priority: H\\nOrder Date: 10/24/2010\\nOrder ID: 166460740\\nShip Date: 11/17/2010\\nUnits Sold: 8287\\nUnit Price: 651.21\\nUnit Cost: 524.96\\nTotal Revenue: 5396577.27\\nTotal Cost: 4350343.52\\nTotal Profit: 1046233.75'), Document(metadata={'source': 'data.csv', 'row': 69}, page_content='Region: Sub-Saharan Africa\\nCountry: Madagascar\\nItem Type: Clothes\\nSales Channel: Offline\\nOrder Priority: L\\nOrder Date: 4/25/2015\\nOrder ID: 610425555\\nShip Date: 5/28/2015\\nUnits Sold: 7342\\nUnit Price: 109.28\\nUnit Cost: 35.84\\nTotal Revenue: 802333.76\\nTotal Cost: 263137.28\\nTotal Profit: 539196.48'), Document(metadata={'source': 'data.csv', 'row': 70}, page_content='Region: Asia\\nCountry: Turkmenistan\\nItem Type: Office Supplies\\nSales Channel: Online\\nOrder Priority: M\\nOrder Date: 4/23/2013\\nOrder ID: 462405812\\nShip Date: 5/20/2013\\nUnits Sold: 5010\\nUnit Price: 651.21\\nUnit Cost: 524.96\\nTotal Revenue: 3262562.1\\nTotal Cost: 2630049.6\\nTotal Profit: 632512.5'), Document(metadata={'source': 'data.csv', 'row': 71}, page_content='Region: Middle East and North Africa\\nCountry: Libya\\nItem Type: Fruits\\nSales Channel: Online\\nOrder Priority: L\\nOrder Date: 8/14/2015\\nOrder ID: 816200339\\nShip Date: 9/30/2015\\nUnits Sold: 673\\nUnit Price: 9.33\\nUnit Cost: 6.92\\nTotal Revenue: 6279.09\\nTotal Cost: 4657.16\\nTotal Profit: 1621.93'), Document(metadata={'source': 'data.csv', 'row': 72}, page_content='Region: Sub-Saharan Africa\\nCountry: Democratic Republic of the Congo\\nItem Type: Beverages\\nSales Channel: Online\\nOrder Priority: C\\nOrder Date: 5/26/2011\\nOrder ID: 585920464\\nShip Date: 7/15/2011\\nUnits Sold: 5741\\nUnit Price: 47.45\\nUnit Cost: 31.79\\nTotal Revenue: 272410.45\\nTotal Cost: 182506.39\\nTotal Profit: 89904.06'), Document(metadata={'source': 'data.csv', 'row': 73}, page_content='Region: Sub-Saharan Africa\\nCountry: Djibouti\\nItem Type: Cereal\\nSales Channel: Online\\nOrder Priority: H\\nOrder Date: 5/20/2017\\nOrder ID: 555990016\\nShip Date: 6/17/2017\\nUnits Sold: 8656\\nUnit Price: 205.7\\nUnit Cost: 117.11\\nTotal Revenue: 1780539.2\\nTotal Cost: 1013704.16\\nTotal Profit: 766835.04'), Document(metadata={'source': 'data.csv', 'row': 74}, page_content='Region: Middle East and North Africa\\nCountry: Pakistan\\nItem Type: Cosmetics\\nSales Channel: Offline\\nOrder Priority: L\\nOrder Date: 07-05-2013\\nOrder ID: 231145322\\nShip Date: 8/16/2013\\nUnits Sold: 9892\\nUnit Price: 437.2\\nUnit Cost: 263.33\\nTotal Revenue: 4324782.4\\nTotal Cost: 2604860.36\\nTotal Profit: 1719922.04'), Document(metadata={'source': 'data.csv', 'row': 75}, page_content='Region: North America\\nCountry: Mexico\\nItem Type: Household\\nSales Channel: Offline\\nOrder Priority: C\\nOrder Date: 11-06-2014\\nOrder ID: 986435210\\nShip Date: 12-12-2014\\nUnits Sold: 6954\\nUnit Price: 668.27\\nUnit Cost: 502.54\\nTotal Revenue: 4647149.58\\nTotal Cost: 3494663.16\\nTotal Profit: 1152486.42'), Document(metadata={'source': 'data.csv', 'row': 76}, page_content='Region: Australia and Oceania\\nCountry: Federated States of Micronesia\\nItem Type: Beverages\\nSales Channel: Online\\nOrder Priority: C\\nOrder Date: 10/28/2014\\nOrder ID: 217221009\\nShip Date: 11/15/2014\\nUnits Sold: 9379\\nUnit Price: 47.45\\nUnit Cost: 31.79\\nTotal Revenue: 445033.55\\nTotal Cost: 298158.41\\nTotal Profit: 146875.14'), Document(metadata={'source': 'data.csv', 'row': 77}, page_content='Region: Asia\\nCountry: Laos\\nItem Type: Vegetables\\nSales Channel: Offline\\nOrder Priority: C\\nOrder Date: 9/15/2011\\nOrder ID: 789176547\\nShip Date: 10/23/2011\\nUnits Sold: 3732\\nUnit Price: 154.06\\nUnit Cost: 90.93\\nTotal Revenue: 574951.92\\nTotal Cost: 339350.76\\nTotal Profit: 235601.16'), Document(metadata={'source': 'data.csv', 'row': 78}, page_content='Region: Europe\\nCountry: Monaco\\nItem Type: Baby Food\\nSales Channel: Offline\\nOrder Priority: H\\nOrder Date: 5/29/2012\\nOrder ID: 688288152\\nShip Date: 06-02-2012\\nUnits Sold: 8614\\nUnit Price: 255.28\\nUnit Cost: 159.42\\nTotal Revenue: 2198981.92\\nTotal Cost: 1373243.88\\nTotal Profit: 825738.04'), Document(metadata={'source': 'data.csv', 'row': 79}, page_content='Region: Australia and Oceania\\nCountry: Samoa\\nItem Type: Cosmetics\\nSales Channel: Online\\nOrder Priority: H\\nOrder Date: 7/20/2013\\nOrder ID: 670854651\\nShip Date: 08-07-2013\\nUnits Sold: 9654\\nUnit Price: 437.2\\nUnit Cost: 263.33\\nTotal Revenue: 4220728.8\\nTotal Cost: 2542187.82\\nTotal Profit: 1678540.98'), Document(metadata={'source': 'data.csv', 'row': 80}, page_content='Region: Europe\\nCountry: Spain\\nItem Type: Household\\nSales Channel: Offline\\nOrder Priority: L\\nOrder Date: 10/21/2012\\nOrder ID: 213487374\\nShip Date: 11/30/2012\\nUnits Sold: 4513\\nUnit Price: 668.27\\nUnit Cost: 502.54\\nTotal Revenue: 3015902.51\\nTotal Cost: 2267963.02\\nTotal Profit: 747939.49'), Document(metadata={'source': 'data.csv', 'row': 81}, page_content='Region: Middle East and North Africa\\nCountry: Lebanon\\nItem Type: Clothes\\nSales Channel: Online\\nOrder Priority: L\\nOrder Date: 9/18/2012\\nOrder ID: 663110148\\nShip Date: 10-08-2012\\nUnits Sold: 7884\\nUnit Price: 109.28\\nUnit Cost: 35.84\\nTotal Revenue: 861563.52\\nTotal Cost: 282562.56\\nTotal Profit: 579000.96'), Document(metadata={'source': 'data.csv', 'row': 82}, page_content='Region: Middle East and North Africa\\nCountry: Iran\\nItem Type: Cosmetics\\nSales Channel: Online\\nOrder Priority: H\\nOrder Date: 11/15/2016\\nOrder ID: 286959302\\nShip Date: 12-08-2016\\nUnits Sold: 6489\\nUnit Price: 437.2\\nUnit Cost: 263.33\\nTotal Revenue: 2836990.8\\nTotal Cost: 1708748.37\\nTotal Profit: 1128242.43'), Document(metadata={'source': 'data.csv', 'row': 83}, page_content='Region: Sub-Saharan Africa\\nCountry: Zambia\\nItem Type: Snacks\\nSales Channel: Online\\nOrder Priority: L\\nOrder Date: 01-04-2011\\nOrder ID: 122583663\\nShip Date: 01-05-2011\\nUnits Sold: 4085\\nUnit Price: 152.58\\nUnit Cost: 97.44\\nTotal Revenue: 623289.3\\nTotal Cost: 398042.4\\nTotal Profit: 225246.9'), Document(metadata={'source': 'data.csv', 'row': 84}, page_content='Region: Sub-Saharan Africa\\nCountry: Kenya\\nItem Type: Vegetables\\nSales Channel: Online\\nOrder Priority: L\\nOrder Date: 3/18/2012\\nOrder ID: 827844560\\nShip Date: 04-07-2012\\nUnits Sold: 6457\\nUnit Price: 154.06\\nUnit Cost: 90.93\\nTotal Revenue: 994765.42\\nTotal Cost: 587135.01\\nTotal Profit: 407630.41'), Document(metadata={'source': 'data.csv', 'row': 85}, page_content='Region: North America\\nCountry: Mexico\\nItem Type: Personal Care\\nSales Channel: Offline\\nOrder Priority: L\\nOrder Date: 2/17/2012\\nOrder ID: 430915820\\nShip Date: 3/20/2012\\nUnits Sold: 6422\\nUnit Price: 81.73\\nUnit Cost: 56.67\\nTotal Revenue: 524870.06\\nTotal Cost: 363934.74\\nTotal Profit: 160935.32'), Document(metadata={'source': 'data.csv', 'row': 86}, page_content='Region: Sub-Saharan Africa\\nCountry: Sao Tome and Principe\\nItem Type: Beverages\\nSales Channel: Offline\\nOrder Priority: C\\nOrder Date: 1/16/2011\\nOrder ID: 180283772\\nShip Date: 1/21/2011\\nUnits Sold: 8829\\nUnit Price: 47.45\\nUnit Cost: 31.79\\nTotal Revenue: 418936.05\\nTotal Cost: 280673.91\\nTotal Profit: 138262.14'), Document(metadata={'source': 'data.csv', 'row': 87}, page_content='Region: Sub-Saharan Africa\\nCountry: The Gambia\\nItem Type: Baby Food\\nSales Channel: Offline\\nOrder Priority: M\\nOrder Date: 02-03-2014\\nOrder ID: 494747245\\nShip Date: 3/20/2014\\nUnits Sold: 5559\\nUnit Price: 255.28\\nUnit Cost: 159.42\\nTotal Revenue: 1419101.52\\nTotal Cost: 886215.78\\nTotal Profit: 532885.74'), Document(metadata={'source': 'data.csv', 'row': 88}, page_content='Region: Middle East and North Africa\\nCountry: Kuwait\\nItem Type: Fruits\\nSales Channel: Online\\nOrder Priority: M\\nOrder Date: 4/30/2012\\nOrder ID: 513417565\\nShip Date: 5/18/2012\\nUnits Sold: 522\\nUnit Price: 9.33\\nUnit Cost: 6.92\\nTotal Revenue: 4870.26\\nTotal Cost: 3612.24\\nTotal Profit: 1258.02'), Document(metadata={'source': 'data.csv', 'row': 89}, page_content='Region: Europe\\nCountry: Slovenia\\nItem Type: Beverages\\nSales Channel: Offline\\nOrder Priority: C\\nOrder Date: 10/23/2016\\nOrder ID: 345718562\\nShip Date: 11/25/2016\\nUnits Sold: 4660\\nUnit Price: 47.45\\nUnit Cost: 31.79\\nTotal Revenue: 221117\\nTotal Cost: 148141.4\\nTotal Profit: 72975.6'), Document(metadata={'source': 'data.csv', 'row': 90}, page_content='Region: Sub-Saharan Africa\\nCountry: Sierra Leone\\nItem Type: Office Supplies\\nSales Channel: Offline\\nOrder Priority: H\\nOrder Date: 12-06-2016\\nOrder ID: 621386563\\nShip Date: 12/14/2016\\nUnits Sold: 948\\nUnit Price: 651.21\\nUnit Cost: 524.96\\nTotal Revenue: 617347.08\\nTotal Cost: 497662.08\\nTotal Profit: 119685'), Document(metadata={'source': 'data.csv', 'row': 91}, page_content='Region: Australia and Oceania\\nCountry: Australia\\nItem Type: Beverages\\nSales Channel: Offline\\nOrder Priority: H\\nOrder Date: 07-07-2014\\nOrder ID: 240470397\\nShip Date: 07-11-2014\\nUnits Sold: 9389\\nUnit Price: 47.45\\nUnit Cost: 31.79\\nTotal Revenue: 445508.05\\nTotal Cost: 298476.31\\nTotal Profit: 147031.74'), Document(metadata={'source': 'data.csv', 'row': 92}, page_content='Region: Middle East and North Africa\\nCountry: Azerbaijan\\nItem Type: Office Supplies\\nSales Channel: Online\\nOrder Priority: M\\nOrder Date: 6/13/2012\\nOrder ID: 423331391\\nShip Date: 7/24/2012\\nUnits Sold: 2021\\nUnit Price: 651.21\\nUnit Cost: 524.96\\nTotal Revenue: 1316095.41\\nTotal Cost: 1060944.16\\nTotal Profit: 255151.25'), Document(metadata={'source': 'data.csv', 'row': 93}, page_content='Region: Europe\\nCountry: Romania\\nItem Type: Cosmetics\\nSales Channel: Online\\nOrder Priority: H\\nOrder Date: 11/26/2010\\nOrder ID: 660643374\\nShip Date: 12/25/2010\\nUnits Sold: 7910\\nUnit Price: 437.2\\nUnit Cost: 263.33\\nTotal Revenue: 3458252\\nTotal Cost: 2082940.3\\nTotal Profit: 1375311.7'), Document(metadata={'source': 'data.csv', 'row': 94}, page_content='Region: Central America and the Caribbean\\nCountry: Nicaragua\\nItem Type: Beverages\\nSales Channel: Offline\\nOrder Priority: C\\nOrder Date: 02-08-2011\\nOrder ID: 963392674\\nShip Date: 3/21/2011\\nUnits Sold: 8156\\nUnit Price: 47.45\\nUnit Cost: 31.79\\nTotal Revenue: 387002.2\\nTotal Cost: 259279.24\\nTotal Profit: 127722.96'), Document(metadata={'source': 'data.csv', 'row': 95}, page_content='Region: Sub-Saharan Africa\\nCountry: Mali\\nItem Type: Clothes\\nSales Channel: Online\\nOrder Priority: M\\nOrder Date: 7/26/2011\\nOrder ID: 512878119\\nShip Date: 09-03-2011\\nUnits Sold: 888\\nUnit Price: 109.28\\nUnit Cost: 35.84\\nTotal Revenue: 97040.64\\nTotal Cost: 31825.92\\nTotal Profit: 65214.72'), Document(metadata={'source': 'data.csv', 'row': 96}, page_content='Region: Asia\\nCountry: Malaysia\\nItem Type: Fruits\\nSales Channel: Offline\\nOrder Priority: L\\nOrder Date: 11-11-2011\\nOrder ID: 810711038\\nShip Date: 12/28/2011\\nUnits Sold: 6267\\nUnit Price: 9.33\\nUnit Cost: 6.92\\nTotal Revenue: 58471.11\\nTotal Cost: 43367.64\\nTotal Profit: 15103.47'), Document(metadata={'source': 'data.csv', 'row': 97}, page_content='Region: Sub-Saharan Africa\\nCountry: Sierra Leone\\nItem Type: Vegetables\\nSales Channel: Offline\\nOrder Priority: C\\nOrder Date: 06-01-2016\\nOrder ID: 728815257\\nShip Date: 6/29/2016\\nUnits Sold: 1485\\nUnit Price: 154.06\\nUnit Cost: 90.93\\nTotal Revenue: 228779.1\\nTotal Cost: 135031.05\\nTotal Profit: 93748.05'), Document(metadata={'source': 'data.csv', 'row': 98}, page_content='Region: North America\\nCountry: Mexico\\nItem Type: Personal Care\\nSales Channel: Offline\\nOrder Priority: M\\nOrder Date: 7/30/2015\\nOrder ID: 559427106\\nShip Date: 08-08-2015\\nUnits Sold: 5767\\nUnit Price: 81.73\\nUnit Cost: 56.67\\nTotal Revenue: 471336.91\\nTotal Cost: 326815.89\\nTotal Profit: 144521.02'), Document(metadata={'source': 'data.csv', 'row': 99}, page_content='Region: Sub-Saharan Africa\\nCountry: Mozambique\\nItem Type: Household\\nSales Channel: Offline\\nOrder Priority: L\\nOrder Date: 02-10-2012\\nOrder ID: 665095412\\nShip Date: 2/15/2012\\nUnits Sold: 5367\\nUnit Price: 668.27\\nUnit Cost: 502.54\\nTotal Revenue: 3586605.09\\nTotal Cost: 2697132.18\\nTotal Profit: 889472.91')]\n"
     ]
    }
   ],
   "source": [
    "# --- Step 1. Load your CSV data ---\n",
    "# Ensure your CSV (e.g., \"data.csv\") is in the same folder or provide the full path.\n",
    "loader = CSVLoader(file_path='data.csv')\n",
    "documents = loader.load()\n",
    "\n",
    "print(documents)"
   ]
  },
  {
   "cell_type": "code",
   "execution_count": 4,
   "metadata": {},
   "outputs": [],
   "source": [
    "# --- Step 2. (Optional) Split documents ---\n",
    "# This helps if your CSV rows are long. Adjust chunk size and overlap as needed.\n",
    "text_splitter = CharacterTextSplitter(chunk_size=500, chunk_overlap=0)\n",
    "docs = text_splitter.split_documents(documents)\n"
   ]
  },
  {
   "cell_type": "code",
   "execution_count": 5,
   "metadata": {},
   "outputs": [
    {
     "name": "stderr",
     "output_type": "stream",
     "text": [
      "C:\\Users\\hp\\AppData\\Local\\Temp\\ipykernel_18000\\2219140581.py:3: LangChainDeprecationWarning: The class `HuggingFaceEmbeddings` was deprecated in LangChain 0.2.2 and will be removed in 1.0. An updated version of the class exists in the :class:`~langchain-huggingface package and should be used instead. To use it run `pip install -U :class:`~langchain-huggingface` and import as `from :class:`~langchain_huggingface import HuggingFaceEmbeddings``.\n",
      "  embedding_model = HuggingFaceEmbeddings(model_name=\"sentence-transformers/all-MiniLM-L6-v2\")\n"
     ]
    }
   ],
   "source": [
    "# --- Step 3. Create embeddings ---\n",
    "# We use a free model from Sentence Transformers.\n",
    "embedding_model = HuggingFaceEmbeddings(model_name=\"sentence-transformers/all-MiniLM-L6-v2\")\n"
   ]
  },
  {
   "cell_type": "code",
   "execution_count": 6,
   "metadata": {},
   "outputs": [],
   "source": [
    "# --- Step 4. Build the vector store ---\n",
    "# We create a FAISS index from our documents.\n",
    "vectorstore = FAISS.from_documents(docs, embedding_model)"
   ]
  },
  {
   "cell_type": "code",
   "execution_count": null,
   "metadata": {},
   "outputs": [],
   "source": [
    "from langchain_groq import ChatGroq\n",
    "\n",
    "# Initialize the Groq model\n",
    "llm = ChatGroq(model=\"llama-3.1-8b-instant\", temperature=0)    # to try different models try models on groq\n"
   ]
  },
  {
   "cell_type": "code",
   "execution_count": 11,
   "metadata": {},
   "outputs": [],
   "source": [
    "from langchain.chains import ConversationalRetrievalChain\n",
    "\n",
    "# Create the retriever\n",
    "retriever = vectorstore.as_retriever(search_type=\"similarity\", search_kwargs={\"k\": 3})\n",
    "\n",
    "# Set up the conversational retrieval chain\n",
    "chatbot = ConversationalRetrievalChain.from_llm(llm, retriever)\n"
   ]
  },
  {
   "cell_type": "code",
   "execution_count": 13,
   "metadata": {},
   "outputs": [
    {
     "name": "stdout",
     "output_type": "stream",
     "text": [
      "Chatbot is ready! Type 'exit' to end the conversation.\n",
      "\n",
      "Chatbot: To calculate the total data for Australia, we need to consider the two orders from Australia:\n",
      "\n",
      "1. Order ID: 158535134 (Office Supplies)\n",
      "2. Order ID: 450563752 (Cereal)\n",
      "\n",
      "Here's the total data for Australia:\n",
      "\n",
      "- Units Sold: 2924 + 682 = 3606\n",
      "- Total Revenue: $1904138.04 + $140287.4 = $2044425.44\n",
      "- Total Cost: $1534983.04 + $79869.02 = $1619952.06\n",
      "- Total Profit: $2044425.44 - $1619952.06 = $426473.38\n",
      "Chatbot: To find the total data for Australia, we need to combine the data from the two orders related to Australia.\n",
      "\n",
      "Order 1: \n",
      "- Item Type: Office Supplies\n",
      "- Sales Channel: Online\n",
      "- Order Priority: C\n",
      "- Order Date: 10/27/2015\n",
      "- Order ID: 158535134\n",
      "- Ship Date: 11/25/2015\n",
      "- Units Sold: 2924\n",
      "- Unit Price: 651.21\n",
      "- Unit Cost: 524.96\n",
      "- Total Revenue: 1904138.04\n",
      "- Total Cost: 1534983.04\n",
      "- Total Profit: 369155\n",
      "\n",
      "Order 2: \n",
      "- Item Type: Cereal\n",
      "- Sales Channel: Offline\n",
      "- Order Priority: H\n",
      "- Order Date: 06-09-2013\n",
      "- Order ID: 450563752\n",
      "- Ship Date: 07-02-2013\n",
      "- Units Sold: 682\n",
      "- Unit Price: 205.7\n",
      "- Unit Cost: 117.11\n",
      "- Total Revenue: 140287.4\n",
      "- Total Cost: 79869.02\n",
      "- Total Profit: 60418.38\n",
      "\n",
      "Total Data for Australia:\n",
      "- Total Revenue: 1904138.04 + 140287.4 = 2044425.44\n",
      "- Total Cost: 1534983.04 + 79869.02 = 1617952.06\n",
      "- Total Profit: 369155 + 60418.38 = 329573.38\n",
      "Chatbot: To find the total profit for the orders related to Australia, we need to calculate the total profit for both the online and offline orders in Australia.\n",
      "\n",
      "For the online order in Australia:\n",
      "Total Profit: 369155\n",
      "\n",
      "For the offline order in Australia:\n",
      "Total Profit: 147031.74\n",
      "\n",
      "The total profit for the orders related to Australia is 369155 + 147031.74 = 516186.74.\n",
      "Goodbye!\n"
     ]
    }
   ],
   "source": [
    "chat_history = []\n",
    "print(\"Chatbot is ready! Type 'exit' to end the conversation.\\n\")\n",
    "\n",
    "while True:\n",
    "    query = input(\"User: \")\n",
    "    print()\n",
    "    if query.lower() == \"exit\":\n",
    "        print(\"Goodbye!\")\n",
    "        break\n",
    "    result = chatbot({\"question\": query, \"chat_history\": chat_history})\n",
    "    answer = result[\"answer\"]\n",
    "    chat_history.append((query, answer))\n",
    "    print(\"Chatbot:\", answer)\n"
   ]
  }
 ],
 "metadata": {
  "kernelspec": {
   "display_name": "venv",
   "language": "python",
   "name": "python3"
  },
  "language_info": {
   "codemirror_mode": {
    "name": "ipython",
    "version": 3
   },
   "file_extension": ".py",
   "mimetype": "text/x-python",
   "name": "python",
   "nbconvert_exporter": "python",
   "pygments_lexer": "ipython3",
   "version": "3.12.1"
  }
 },
 "nbformat": 4,
 "nbformat_minor": 2
}
